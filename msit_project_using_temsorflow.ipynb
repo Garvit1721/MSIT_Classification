{
 "cells": [
  {
   "cell_type": "code",
   "execution_count": 1,
   "id": "1e4aa2ed",
   "metadata": {},
   "outputs": [
    {
     "name": "stdout",
     "output_type": "stream",
     "text": [
      "WARNING:tensorflow:From C:\\Users\\VICTUS\\anaconda3\\lib\\site-packages\\keras\\src\\losses.py:2976: The name tf.losses.sparse_softmax_cross_entropy is deprecated. Please use tf.compat.v1.losses.sparse_softmax_cross_entropy instead.\n",
      "\n"
     ]
    }
   ],
   "source": [
    "import tensorflow as tf\n",
    "import numpy as np\n",
    "import pandas as pd\n",
    "import matplotlib.pyplot as plt"
   ]
  },
  {
   "cell_type": "code",
   "execution_count": 2,
   "id": "e0f648cb",
   "metadata": {},
   "outputs": [],
   "source": [
    "(x_train, y_train), (x_test, y_test) = tf.keras.datasets.mnist.load_data()"
   ]
  },
  {
   "cell_type": "code",
   "execution_count": 3,
   "id": "4ce6ca31",
   "metadata": {},
   "outputs": [
    {
     "data": {
      "text/plain": [
       "(60000, 28, 28)"
      ]
     },
     "execution_count": 3,
     "metadata": {},
     "output_type": "execute_result"
    }
   ],
   "source": [
    "x_train.shape"
   ]
  },
  {
   "cell_type": "code",
   "execution_count": 4,
   "id": "5aedcebc",
   "metadata": {},
   "outputs": [
    {
     "data": {
      "text/plain": [
       "(60000,)"
      ]
     },
     "execution_count": 4,
     "metadata": {},
     "output_type": "execute_result"
    }
   ],
   "source": [
    "y_train.shape"
   ]
  },
  {
   "cell_type": "code",
   "execution_count": 5,
   "id": "71451d50",
   "metadata": {},
   "outputs": [
    {
     "data": {
      "text/plain": [
       "array([5, 0, 4, ..., 5, 6, 8], dtype=uint8)"
      ]
     },
     "execution_count": 5,
     "metadata": {},
     "output_type": "execute_result"
    }
   ],
   "source": [
    "y_train"
   ]
  },
  {
   "cell_type": "code",
   "execution_count": 6,
   "id": "1e37d217",
   "metadata": {},
   "outputs": [
    {
     "data": {
      "text/plain": [
       "array([[[0, 0, 0, ..., 0, 0, 0],\n",
       "        [0, 0, 0, ..., 0, 0, 0],\n",
       "        [0, 0, 0, ..., 0, 0, 0],\n",
       "        ...,\n",
       "        [0, 0, 0, ..., 0, 0, 0],\n",
       "        [0, 0, 0, ..., 0, 0, 0],\n",
       "        [0, 0, 0, ..., 0, 0, 0]],\n",
       "\n",
       "       [[0, 0, 0, ..., 0, 0, 0],\n",
       "        [0, 0, 0, ..., 0, 0, 0],\n",
       "        [0, 0, 0, ..., 0, 0, 0],\n",
       "        ...,\n",
       "        [0, 0, 0, ..., 0, 0, 0],\n",
       "        [0, 0, 0, ..., 0, 0, 0],\n",
       "        [0, 0, 0, ..., 0, 0, 0]],\n",
       "\n",
       "       [[0, 0, 0, ..., 0, 0, 0],\n",
       "        [0, 0, 0, ..., 0, 0, 0],\n",
       "        [0, 0, 0, ..., 0, 0, 0],\n",
       "        ...,\n",
       "        [0, 0, 0, ..., 0, 0, 0],\n",
       "        [0, 0, 0, ..., 0, 0, 0],\n",
       "        [0, 0, 0, ..., 0, 0, 0]],\n",
       "\n",
       "       ...,\n",
       "\n",
       "       [[0, 0, 0, ..., 0, 0, 0],\n",
       "        [0, 0, 0, ..., 0, 0, 0],\n",
       "        [0, 0, 0, ..., 0, 0, 0],\n",
       "        ...,\n",
       "        [0, 0, 0, ..., 0, 0, 0],\n",
       "        [0, 0, 0, ..., 0, 0, 0],\n",
       "        [0, 0, 0, ..., 0, 0, 0]],\n",
       "\n",
       "       [[0, 0, 0, ..., 0, 0, 0],\n",
       "        [0, 0, 0, ..., 0, 0, 0],\n",
       "        [0, 0, 0, ..., 0, 0, 0],\n",
       "        ...,\n",
       "        [0, 0, 0, ..., 0, 0, 0],\n",
       "        [0, 0, 0, ..., 0, 0, 0],\n",
       "        [0, 0, 0, ..., 0, 0, 0]],\n",
       "\n",
       "       [[0, 0, 0, ..., 0, 0, 0],\n",
       "        [0, 0, 0, ..., 0, 0, 0],\n",
       "        [0, 0, 0, ..., 0, 0, 0],\n",
       "        ...,\n",
       "        [0, 0, 0, ..., 0, 0, 0],\n",
       "        [0, 0, 0, ..., 0, 0, 0],\n",
       "        [0, 0, 0, ..., 0, 0, 0]]], dtype=uint8)"
      ]
     },
     "execution_count": 6,
     "metadata": {},
     "output_type": "execute_result"
    }
   ],
   "source": [
    "x_train"
   ]
  },
  {
   "cell_type": "code",
   "execution_count": 7,
   "id": "3699713b",
   "metadata": {},
   "outputs": [],
   "source": [
    "y_train = pd.get_dummies(y_train)"
   ]
  },
  {
   "cell_type": "code",
   "execution_count": 8,
   "id": "821b056d",
   "metadata": {},
   "outputs": [],
   "source": [
    "y_train = np.array(y_train)"
   ]
  },
  {
   "cell_type": "code",
   "execution_count": 9,
   "id": "c9a34de4",
   "metadata": {},
   "outputs": [],
   "source": [
    "y_test = pd.get_dummies(y_test)\n",
    "y_test = np.array(y_test)"
   ]
  },
  {
   "cell_type": "code",
   "execution_count": 10,
   "id": "f652d476",
   "metadata": {},
   "outputs": [
    {
     "data": {
      "text/plain": [
       "((60000, 10), (10000, 10))"
      ]
     },
     "execution_count": 10,
     "metadata": {},
     "output_type": "execute_result"
    }
   ],
   "source": [
    "y_train.shape,y_test.shape"
   ]
  },
  {
   "cell_type": "code",
   "execution_count": 11,
   "id": "cf04d5ab",
   "metadata": {},
   "outputs": [
    {
     "data": {
      "text/plain": [
       "<matplotlib.image.AxesImage at 0x15ad938f670>"
      ]
     },
     "execution_count": 11,
     "metadata": {},
     "output_type": "execute_result"
    },
    {
     "data": {
      "image/png": "[encoded data removed]",
      "text/plain": [
       "<Figure size 640x480 with 1 Axes>"
      ]
     },
     "metadata": {},
     "output_type": "display_data"
    }
   ],
   "source": [
    "first_image = np.array(x_train[55050],dtype = 'float')\n",
    "plt.imshow(first_image)"
   ]
  },
  {
   "cell_type": "code",
   "execution_count": 12,
   "id": "22b2a04d",
   "metadata": {},
   "outputs": [
    {
     "data": {
      "text/plain": [
       "array([0, 0, 0, 1, 0, 0, 0, 0, 0, 0], dtype=uint8)"
      ]
     },
     "execution_count": 12,
     "metadata": {},
     "output_type": "execute_result"
    }
   ],
   "source": [
    "y_train[55050]"
   ]
  },
  {
   "cell_type": "code",
   "execution_count": 13,
   "id": "95c2dabe",
   "metadata": {},
   "outputs": [],
   "source": [
    "x_train = x_train.reshape(60000,784)"
   ]
  },
  {
   "cell_type": "code",
   "execution_count": 14,
   "id": "7550fd22",
   "metadata": {},
   "outputs": [
    {
     "data": {
      "text/plain": [
       "(60000, 784)"
      ]
     },
     "execution_count": 14,
     "metadata": {},
     "output_type": "execute_result"
    }
   ],
   "source": [
    "x_train.shape"
   ]
  },
  {
   "cell_type": "code",
   "execution_count": 15,
   "id": "2a3956f7",
   "metadata": {},
   "outputs": [],
   "source": [
    "x_test = x_test.reshape(10000,784)"
   ]
  },
  {
   "cell_type": "code",
   "execution_count": 16,
   "id": "5e7b2129",
   "metadata": {},
   "outputs": [
    {
     "data": {
      "text/plain": [
       "(10000, 784)"
      ]
     },
     "execution_count": 16,
     "metadata": {},
     "output_type": "execute_result"
    }
   ],
   "source": [
    "x_test.shape"
   ]
  },
  {
   "cell_type": "code",
   "execution_count": 17,
   "id": "effda80d",
   "metadata": {},
   "outputs": [],
   "source": [
    "n_input = 784\n",
    "n_hidden1 = 256\n",
    "n_hidden2 = 256\n",
    "n_classes = 10\n",
    "\n",
    "weights = {\n",
    "    'h1' : tf.Variable(tf.random.normal([n_input,n_hidden1])),\n",
    "    'h2' : tf.Variable(tf.random.normal([n_hidden1,n_hidden2])),\n",
    "    'out' : tf.Variable(tf.random.normal([n_hidden2,n_classes]))\n",
    "}\n",
    "biases = {\n",
    "    'h1' : tf.Variable(tf.random.normal([n_hidden1])),\n",
    "    'h2' : tf.Variable(tf.random.normal([n_hidden2])),\n",
    "    'out' : tf.Variable(tf.random.normal([n_classes]))\n",
    "}"
   ]
  },
  {
   "cell_type": "code",
   "execution_count": 18,
   "id": "6915d016",
   "metadata": {},
   "outputs": [
    {
     "data": {
      "text/plain": [
       "<tf.Tensor: shape=(), dtype=float32, numpy=0.90160036>"
      ]
     },
     "execution_count": 18,
     "metadata": {},
     "output_type": "execute_result"
    }
   ],
   "source": [
    "weights['h1'][0][0]"
   ]
  },
  {
   "cell_type": "code",
   "execution_count": 19,
   "id": "9a58fa95",
   "metadata": {},
   "outputs": [],
   "source": [
    "def forward_propagation(x,weights,biases):\n",
    "    in_layer1 = tf.add(tf.matmul(x,weights['h1']),biases['h1'])\n",
    "    out_layer1 = tf.nn.relu(in_layer1)\n",
    "    \n",
    "    in_layer2 = tf.add(tf.matmul(out_layer1,weights['h2']),biases['h2'])\n",
    "    out_layer2 = tf.nn.relu(in_layer2)\n",
    "    \n",
    "    output = tf.add(tf.matmul(out_layer2,weights['out']),biases['out'])\n",
    "    return output"
   ]
  },
  {
   "cell_type": "code",
   "execution_count": 20,
   "id": "989eb253",
   "metadata": {},
   "outputs": [],
   "source": [
    "x_train = x_train.astype(np.float32)\n",
    "x_test = x_test.astype(np.float32)\n",
    "pred = forward_propagation(x_train,weights,biases)\n",
    "pred_1 = forward_propagation(x_test,weights,biases) \n",
    "predictions = tf.argmax(pred,1)\n",
    "predictions_test = tf.argmax(pred_1,1)\n",
    "correct = tf.argmax(y_train,1)\n",
    "correct_test = tf.argmax(y_test,1)"
   ]
  },
  {
   "cell_type": "code",
   "execution_count": 21,
   "id": "0e3204ac",
   "metadata": {},
   "outputs": [
    {
     "data": {
      "text/plain": [
       "(4259, 679)"
      ]
     },
     "execution_count": 21,
     "metadata": {},
     "output_type": "execute_result"
    }
   ],
   "source": [
    "count = 0\n",
    "for i in range(len(predictions.numpy())):\n",
    "    if predictions.numpy()[i] == correct.numpy()[i]:\n",
    "        count += 1\n",
    "count_test = 0\n",
    "for i in range(len(correct_test)):\n",
    "    if predictions_test.numpy()[i] == correct_test.numpy()[i]:\n",
    "        count_test+=1\n",
    "count,count_test"
   ]
  },
  {
   "cell_type": "code",
   "execution_count": 22,
   "id": "1576a6f0",
   "metadata": {},
   "outputs": [],
   "source": [
    "cost = tf.reduce_mean(tf.nn.softmax_cross_entropy_with_logits(logits=pred, labels=y_train))"
   ]
  },
  {
   "cell_type": "code",
   "execution_count": 23,
   "id": "563fdfca",
   "metadata": {},
   "outputs": [],
   "source": [
    "learning_rate = 0.01\n",
    "training_epochs = 10\n",
    "batch_size = 100\n",
    "optimizer = tf.optimizers.Adam(learning_rate)"
   ]
  },
  {
   "cell_type": "code",
   "execution_count": 24,
   "id": "f119b572",
   "metadata": {},
   "outputs": [
    {
     "name": "stdout",
     "output_type": "stream",
     "text": [
      "Epoch: 1 Cost: tf.Tensor(11773.845, shape=(), dtype=float32)\n",
      "Epoch: 2 Cost: tf.Tensor(2269.5322, shape=(), dtype=float32)\n",
      "Epoch: 3 Cost: tf.Tensor(1257.462, shape=(), dtype=float32)\n",
      "Epoch: 4 Cost: tf.Tensor(830.59406, shape=(), dtype=float32)\n",
      "Epoch: 5 Cost: tf.Tensor(689.3306, shape=(), dtype=float32)\n",
      "Epoch: 6 Cost: tf.Tensor(635.40076, shape=(), dtype=float32)\n",
      "Epoch: 7 Cost: tf.Tensor(536.0288, shape=(), dtype=float32)\n",
      "Epoch: 8 Cost: tf.Tensor(438.91147, shape=(), dtype=float32)\n",
      "Epoch: 9 Cost: tf.Tensor(405.84473, shape=(), dtype=float32)\n",
      "Epoch: 10 Cost: tf.Tensor(384.17496, shape=(), dtype=float32)\n",
      "Training completed!\n"
     ]
    }
   ],
   "source": [
    "# Training loop\n",
    "for epoch in range(training_epochs):\n",
    "    avg_cost = 0.\n",
    "    total_batch = int(x_train.shape[0] / batch_size)\n",
    "\n",
    "    # Loop over all batches\n",
    "    for i in range(total_batch):\n",
    "        # Get the next batch of data\n",
    "        batch_x = x_train[i * batch_size: (i + 1) * batch_size]\n",
    "        batch_y = y_train[i * batch_size: (i + 1) * batch_size]\n",
    "\n",
    "        with tf.GradientTape() as tape:\n",
    "            # Forward pass\n",
    "            logits = forward_propagation(batch_x, weights, biases)\n",
    "            # Compute the cross-entropy loss\n",
    "            current_cost = tf.reduce_mean(tf.nn.softmax_cross_entropy_with_logits(logits=logits, labels=batch_y))\n",
    "\n",
    "        # Compute gradients\n",
    "        grads = tape.gradient(current_cost, list(weights.values()) + list(biases.values()))\n",
    "        # Update weights and biases\n",
    "        optimizer.apply_gradients(zip(grads, list(weights.values()) + list(biases.values())))\n",
    "\n",
    "        # Compute average loss\n",
    "        avg_cost += current_cost / total_batch\n",
    "\n",
    "    # Display the cost per epoch\n",
    "    print(\"Epoch:\", (epoch + 1), \"Cost:\", avg_cost)\n",
    "\n",
    "print(\"Training completed!\")"
   ]
  },
  {
   "cell_type": "code",
   "execution_count": 25,
   "id": "2741c2f2",
   "metadata": {},
   "outputs": [],
   "source": [
    "pred_test = forward_propagation(x_test, weights, biases)"
   ]
  },
  {
   "cell_type": "code",
   "execution_count": 26,
   "id": "70274648",
   "metadata": {},
   "outputs": [],
   "source": [
    "y_pred_test = tf.argmax(pred_test,1)"
   ]
  },
  {
   "cell_type": "code",
   "execution_count": 27,
   "id": "18ac1df5",
   "metadata": {},
   "outputs": [],
   "source": [
    "y_pred_test = y_pred_test.numpy()"
   ]
  },
  {
   "cell_type": "code",
   "execution_count": 28,
   "id": "3def5394",
   "metadata": {},
   "outputs": [],
   "source": [
    "y_test = tf.argmax(y_test,1)"
   ]
  },
  {
   "cell_type": "code",
   "execution_count": 29,
   "id": "de79dedb",
   "metadata": {},
   "outputs": [],
   "source": [
    "y_test = y_test.numpy()"
   ]
  },
  {
   "cell_type": "code",
   "execution_count": 30,
   "id": "a5295bd7",
   "metadata": {},
   "outputs": [],
   "source": [
    "count = 0\n",
    "for i in range(len(y_test)):\n",
    "    if y_test[i] == y_pred_test[i]:\n",
    "        count+=1"
   ]
  },
  {
   "cell_type": "code",
   "execution_count": 31,
   "id": "7d614ca4",
   "metadata": {},
   "outputs": [
    {
     "data": {
      "text/plain": [
       "9602"
      ]
     },
     "execution_count": 31,
     "metadata": {},
     "output_type": "execute_result"
    }
   ],
   "source": [
    "count"
   ]
  },
  {
   "cell_type": "code",
   "execution_count": null,
   "id": "cd3d04ca",
   "metadata": {},
   "outputs": [],
   "source": []
  }
 ],
 "metadata": {
  "kernelspec": {
   "display_name": "Python 3 (ipykernel)",
   "language": "python",
   "name": "python3"
  },
  "language_info": {
   "codemirror_mode": {
    "name": "ipython",
    "version": 3
   },
   "file_extension": ".py",
   "mimetype": "text/x-python",
   "name": "python",
   "nbconvert_exporter": "python",
   "pygments_lexer": "ipython3",
   "version": "3.10.9"
  }
 },
 "nbformat": 4,
 "nbformat_minor": 5
}
